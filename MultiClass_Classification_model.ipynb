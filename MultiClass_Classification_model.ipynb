{
  "nbformat": 4,
  "nbformat_minor": 0,
  "metadata": {
    "colab": {
      "name": "MultiClass Classification model",
      "provenance": [],
      "authorship_tag": "ABX9TyO1syNDHTn3Qu6ImnpzLK6R",
      "include_colab_link": true
    },
    "kernelspec": {
      "name": "python3",
      "display_name": "Python 3"
    },
    "language_info": {
      "name": "python"
    }
  },
  "cells": [
    {
      "cell_type": "markdown",
      "metadata": {
        "id": "view-in-github",
        "colab_type": "text"
      },
      "source": [
        "<a href=\"https://colab.research.google.com/github/amansatyam18/amansatyam18/blob/main/MultiClass_Classification_model.ipynb\" target=\"_parent\"><img src=\"https://colab.research.google.com/assets/colab-badge.svg\" alt=\"Open In Colab\"/></a>"
      ]
    },
    {
      "cell_type": "markdown",
      "metadata": {
        "id": "qyG3xQsEoeAi"
      },
      "source": [
        "## **Multiclass** **classification** **models**"
      ]
    },
    {
      "cell_type": "markdown",
      "metadata": {
        "id": "-g95_G8BogH8"
      },
      "source": [
        "**Import all the libraries**"
      ]
    },
    {
      "cell_type": "code",
      "metadata": {
        "id": "3F48ihDVogwu"
      },
      "source": [
        "import pandas as pd\n",
        "import numpy as np\n",
        "import seaborn as sns\n",
        "import matplotlib.pyplot as plt\n",
        "%matplotlib inline\n",
        "\n",
        "import warnings\n",
        "warnings.filterwarnings(\"ignore\")"
      ],
      "execution_count": 135,
      "outputs": []
    },
    {
      "cell_type": "markdown",
      "metadata": {
        "id": "qF4KtQvApXFu"
      },
      "source": [
        "**Exploring the dataset**"
      ]
    },
    {
      "cell_type": "code",
      "metadata": {
        "colab": {
          "base_uri": "https://localhost:8080/"
        },
        "id": "5X2OKWGQpAa9",
        "outputId": "6c761814-d9b2-41e2-f7fb-9200287e5e64"
      },
      "source": [
        "!wget https://raw.githubusercontent.com/MicrosoftDocs/mslearn-introduction-to-machine-learning/main/Data/ml-basics/penguins.csv\n"
      ],
      "execution_count": 69,
      "outputs": [
        {
          "output_type": "stream",
          "name": "stdout",
          "text": [
            "--2021-09-05 07:02:49--  https://raw.githubusercontent.com/MicrosoftDocs/mslearn-introduction-to-machine-learning/main/Data/ml-basics/penguins.csv\n",
            "Resolving raw.githubusercontent.com (raw.githubusercontent.com)... 185.199.111.133, 185.199.109.133, 185.199.108.133, ...\n",
            "Connecting to raw.githubusercontent.com (raw.githubusercontent.com)|185.199.111.133|:443... connected.\n",
            "HTTP request sent, awaiting response... 200 OK\n",
            "Length: 7086 (6.9K) [text/plain]\n",
            "Saving to: ‘penguins.csv.3’\n",
            "\n",
            "\rpenguins.csv.3        0%[                    ]       0  --.-KB/s               \rpenguins.csv.3      100%[===================>]   6.92K  --.-KB/s    in 0s      \n",
            "\n",
            "2021-09-05 07:02:49 (61.7 MB/s) - ‘penguins.csv.3’ saved [7086/7086]\n",
            "\n"
          ]
        }
      ]
    },
    {
      "cell_type": "markdown",
      "metadata": {
        "id": "_zNZVt-rpahY"
      },
      "source": [
        ""
      ]
    },
    {
      "cell_type": "code",
      "metadata": {
        "colab": {
          "base_uri": "https://localhost:8080/",
          "height": 206
        },
        "id": "315SSbopoze5",
        "outputId": "705eddb8-265c-4d26-d0e1-d6e965f2b8d6"
      },
      "source": [
        "df_penguins=pd.read_csv(\"penguins.csv\")\n",
        "df_penguins.head()"
      ],
      "execution_count": 70,
      "outputs": [
        {
          "output_type": "execute_result",
          "data": {
            "text/html": [
              "<div>\n",
              "<style scoped>\n",
              "    .dataframe tbody tr th:only-of-type {\n",
              "        vertical-align: middle;\n",
              "    }\n",
              "\n",
              "    .dataframe tbody tr th {\n",
              "        vertical-align: top;\n",
              "    }\n",
              "\n",
              "    .dataframe thead th {\n",
              "        text-align: right;\n",
              "    }\n",
              "</style>\n",
              "<table border=\"1\" class=\"dataframe\">\n",
              "  <thead>\n",
              "    <tr style=\"text-align: right;\">\n",
              "      <th></th>\n",
              "      <th>CulmenLength</th>\n",
              "      <th>CulmenDepth</th>\n",
              "      <th>FlipperLength</th>\n",
              "      <th>BodyMass</th>\n",
              "      <th>Species</th>\n",
              "    </tr>\n",
              "  </thead>\n",
              "  <tbody>\n",
              "    <tr>\n",
              "      <th>0</th>\n",
              "      <td>39.1</td>\n",
              "      <td>18.7</td>\n",
              "      <td>181.0</td>\n",
              "      <td>3750.0</td>\n",
              "      <td>0</td>\n",
              "    </tr>\n",
              "    <tr>\n",
              "      <th>1</th>\n",
              "      <td>39.5</td>\n",
              "      <td>17.4</td>\n",
              "      <td>186.0</td>\n",
              "      <td>3800.0</td>\n",
              "      <td>0</td>\n",
              "    </tr>\n",
              "    <tr>\n",
              "      <th>2</th>\n",
              "      <td>40.3</td>\n",
              "      <td>18.0</td>\n",
              "      <td>195.0</td>\n",
              "      <td>3250.0</td>\n",
              "      <td>0</td>\n",
              "    </tr>\n",
              "    <tr>\n",
              "      <th>3</th>\n",
              "      <td>NaN</td>\n",
              "      <td>NaN</td>\n",
              "      <td>NaN</td>\n",
              "      <td>NaN</td>\n",
              "      <td>0</td>\n",
              "    </tr>\n",
              "    <tr>\n",
              "      <th>4</th>\n",
              "      <td>36.7</td>\n",
              "      <td>19.3</td>\n",
              "      <td>193.0</td>\n",
              "      <td>3450.0</td>\n",
              "      <td>0</td>\n",
              "    </tr>\n",
              "  </tbody>\n",
              "</table>\n",
              "</div>"
            ],
            "text/plain": [
              "   CulmenLength  CulmenDepth  FlipperLength  BodyMass  Species\n",
              "0          39.1         18.7          181.0    3750.0        0\n",
              "1          39.5         17.4          186.0    3800.0        0\n",
              "2          40.3         18.0          195.0    3250.0        0\n",
              "3           NaN          NaN            NaN       NaN        0\n",
              "4          36.7         19.3          193.0    3450.0        0"
            ]
          },
          "metadata": {},
          "execution_count": 70
        }
      ]
    },
    {
      "cell_type": "code",
      "metadata": {
        "colab": {
          "base_uri": "https://localhost:8080/"
        },
        "id": "LGW94wPGpgEY",
        "outputId": "ff1ab55b-0ff8-4976-d31b-b09f9c521666"
      },
      "source": [
        "# Count the number of null values for each column\n",
        "df_penguins.isnull().sum()"
      ],
      "execution_count": 71,
      "outputs": [
        {
          "output_type": "execute_result",
          "data": {
            "text/plain": [
              "CulmenLength     2\n",
              "CulmenDepth      2\n",
              "FlipperLength    2\n",
              "BodyMass         2\n",
              "Species          0\n",
              "dtype: int64"
            ]
          },
          "metadata": {},
          "execution_count": 71
        }
      ]
    },
    {
      "cell_type": "code",
      "metadata": {
        "colab": {
          "base_uri": "https://localhost:8080/",
          "height": 112
        },
        "id": "gFLyXXMHp7X5",
        "outputId": "311bcb3c-977a-4c0d-a2f8-94374615b0fe"
      },
      "source": [
        "# Show rows containing nulls\n",
        "df_penguins[df_penguins.isnull().any(axis=1)]"
      ],
      "execution_count": 72,
      "outputs": [
        {
          "output_type": "execute_result",
          "data": {
            "text/html": [
              "<div>\n",
              "<style scoped>\n",
              "    .dataframe tbody tr th:only-of-type {\n",
              "        vertical-align: middle;\n",
              "    }\n",
              "\n",
              "    .dataframe tbody tr th {\n",
              "        vertical-align: top;\n",
              "    }\n",
              "\n",
              "    .dataframe thead th {\n",
              "        text-align: right;\n",
              "    }\n",
              "</style>\n",
              "<table border=\"1\" class=\"dataframe\">\n",
              "  <thead>\n",
              "    <tr style=\"text-align: right;\">\n",
              "      <th></th>\n",
              "      <th>CulmenLength</th>\n",
              "      <th>CulmenDepth</th>\n",
              "      <th>FlipperLength</th>\n",
              "      <th>BodyMass</th>\n",
              "      <th>Species</th>\n",
              "    </tr>\n",
              "  </thead>\n",
              "  <tbody>\n",
              "    <tr>\n",
              "      <th>3</th>\n",
              "      <td>NaN</td>\n",
              "      <td>NaN</td>\n",
              "      <td>NaN</td>\n",
              "      <td>NaN</td>\n",
              "      <td>0</td>\n",
              "    </tr>\n",
              "    <tr>\n",
              "      <th>271</th>\n",
              "      <td>NaN</td>\n",
              "      <td>NaN</td>\n",
              "      <td>NaN</td>\n",
              "      <td>NaN</td>\n",
              "      <td>1</td>\n",
              "    </tr>\n",
              "  </tbody>\n",
              "</table>\n",
              "</div>"
            ],
            "text/plain": [
              "     CulmenLength  CulmenDepth  FlipperLength  BodyMass  Species\n",
              "3             NaN          NaN            NaN       NaN        0\n",
              "271           NaN          NaN            NaN       NaN        1"
            ]
          },
          "metadata": {},
          "execution_count": 72
        }
      ]
    },
    {
      "cell_type": "code",
      "metadata": {
        "colab": {
          "base_uri": "https://localhost:8080/"
        },
        "id": "2okXvVrAxNRS",
        "outputId": "396dea6a-9e4a-4aa2-c0d3-b462ae51c2f9"
      },
      "source": [
        "df_penguins=df_penguins.dropna()\n",
        "df_penguins.isnull().sum()"
      ],
      "execution_count": 73,
      "outputs": [
        {
          "output_type": "execute_result",
          "data": {
            "text/plain": [
              "CulmenLength     0\n",
              "CulmenDepth      0\n",
              "FlipperLength    0\n",
              "BodyMass         0\n",
              "Species          0\n",
              "dtype: int64"
            ]
          },
          "metadata": {},
          "execution_count": 73
        }
      ]
    },
    {
      "cell_type": "code",
      "metadata": {
        "colab": {
          "base_uri": "https://localhost:8080/",
          "height": 206
        },
        "id": "CSsxyZ16xWpE",
        "outputId": "c579239d-1b24-4112-e2cc-c5181779950d"
      },
      "source": [
        "df_penguins.head()"
      ],
      "execution_count": 74,
      "outputs": [
        {
          "output_type": "execute_result",
          "data": {
            "text/html": [
              "<div>\n",
              "<style scoped>\n",
              "    .dataframe tbody tr th:only-of-type {\n",
              "        vertical-align: middle;\n",
              "    }\n",
              "\n",
              "    .dataframe tbody tr th {\n",
              "        vertical-align: top;\n",
              "    }\n",
              "\n",
              "    .dataframe thead th {\n",
              "        text-align: right;\n",
              "    }\n",
              "</style>\n",
              "<table border=\"1\" class=\"dataframe\">\n",
              "  <thead>\n",
              "    <tr style=\"text-align: right;\">\n",
              "      <th></th>\n",
              "      <th>CulmenLength</th>\n",
              "      <th>CulmenDepth</th>\n",
              "      <th>FlipperLength</th>\n",
              "      <th>BodyMass</th>\n",
              "      <th>Species</th>\n",
              "    </tr>\n",
              "  </thead>\n",
              "  <tbody>\n",
              "    <tr>\n",
              "      <th>0</th>\n",
              "      <td>39.1</td>\n",
              "      <td>18.7</td>\n",
              "      <td>181.0</td>\n",
              "      <td>3750.0</td>\n",
              "      <td>0</td>\n",
              "    </tr>\n",
              "    <tr>\n",
              "      <th>1</th>\n",
              "      <td>39.5</td>\n",
              "      <td>17.4</td>\n",
              "      <td>186.0</td>\n",
              "      <td>3800.0</td>\n",
              "      <td>0</td>\n",
              "    </tr>\n",
              "    <tr>\n",
              "      <th>2</th>\n",
              "      <td>40.3</td>\n",
              "      <td>18.0</td>\n",
              "      <td>195.0</td>\n",
              "      <td>3250.0</td>\n",
              "      <td>0</td>\n",
              "    </tr>\n",
              "    <tr>\n",
              "      <th>4</th>\n",
              "      <td>36.7</td>\n",
              "      <td>19.3</td>\n",
              "      <td>193.0</td>\n",
              "      <td>3450.0</td>\n",
              "      <td>0</td>\n",
              "    </tr>\n",
              "    <tr>\n",
              "      <th>5</th>\n",
              "      <td>39.3</td>\n",
              "      <td>20.6</td>\n",
              "      <td>190.0</td>\n",
              "      <td>3650.0</td>\n",
              "      <td>0</td>\n",
              "    </tr>\n",
              "  </tbody>\n",
              "</table>\n",
              "</div>"
            ],
            "text/plain": [
              "   CulmenLength  CulmenDepth  FlipperLength  BodyMass  Species\n",
              "0          39.1         18.7          181.0    3750.0        0\n",
              "1          39.5         17.4          186.0    3800.0        0\n",
              "2          40.3         18.0          195.0    3250.0        0\n",
              "4          36.7         19.3          193.0    3450.0        0\n",
              "5          39.3         20.6          190.0    3650.0        0"
            ]
          },
          "metadata": {},
          "execution_count": 74
        }
      ]
    },
    {
      "cell_type": "code",
      "metadata": {
        "colab": {
          "base_uri": "https://localhost:8080/",
          "height": 300
        },
        "id": "8lg-A7i1I_ox",
        "outputId": "92e751be-fe32-45a9-9a87-82496ac852a6"
      },
      "source": [
        "df_penguins.describe()"
      ],
      "execution_count": 146,
      "outputs": [
        {
          "output_type": "execute_result",
          "data": {
            "text/html": [
              "<div>\n",
              "<style scoped>\n",
              "    .dataframe tbody tr th:only-of-type {\n",
              "        vertical-align: middle;\n",
              "    }\n",
              "\n",
              "    .dataframe tbody tr th {\n",
              "        vertical-align: top;\n",
              "    }\n",
              "\n",
              "    .dataframe thead th {\n",
              "        text-align: right;\n",
              "    }\n",
              "</style>\n",
              "<table border=\"1\" class=\"dataframe\">\n",
              "  <thead>\n",
              "    <tr style=\"text-align: right;\">\n",
              "      <th></th>\n",
              "      <th>CulmenLength</th>\n",
              "      <th>CulmenDepth</th>\n",
              "      <th>FlipperLength</th>\n",
              "      <th>BodyMass</th>\n",
              "      <th>Species</th>\n",
              "    </tr>\n",
              "  </thead>\n",
              "  <tbody>\n",
              "    <tr>\n",
              "      <th>count</th>\n",
              "      <td>342.000000</td>\n",
              "      <td>342.000000</td>\n",
              "      <td>342.000000</td>\n",
              "      <td>342.000000</td>\n",
              "      <td>342.000000</td>\n",
              "    </tr>\n",
              "    <tr>\n",
              "      <th>mean</th>\n",
              "      <td>43.921930</td>\n",
              "      <td>17.151170</td>\n",
              "      <td>200.915205</td>\n",
              "      <td>4201.754386</td>\n",
              "      <td>0.757310</td>\n",
              "    </tr>\n",
              "    <tr>\n",
              "      <th>std</th>\n",
              "      <td>5.459584</td>\n",
              "      <td>1.974793</td>\n",
              "      <td>14.061714</td>\n",
              "      <td>801.954536</td>\n",
              "      <td>0.763648</td>\n",
              "    </tr>\n",
              "    <tr>\n",
              "      <th>min</th>\n",
              "      <td>32.100000</td>\n",
              "      <td>13.100000</td>\n",
              "      <td>172.000000</td>\n",
              "      <td>2700.000000</td>\n",
              "      <td>0.000000</td>\n",
              "    </tr>\n",
              "    <tr>\n",
              "      <th>25%</th>\n",
              "      <td>39.225000</td>\n",
              "      <td>15.600000</td>\n",
              "      <td>190.000000</td>\n",
              "      <td>3550.000000</td>\n",
              "      <td>0.000000</td>\n",
              "    </tr>\n",
              "    <tr>\n",
              "      <th>50%</th>\n",
              "      <td>44.450000</td>\n",
              "      <td>17.300000</td>\n",
              "      <td>197.000000</td>\n",
              "      <td>4050.000000</td>\n",
              "      <td>1.000000</td>\n",
              "    </tr>\n",
              "    <tr>\n",
              "      <th>75%</th>\n",
              "      <td>48.500000</td>\n",
              "      <td>18.700000</td>\n",
              "      <td>213.000000</td>\n",
              "      <td>4750.000000</td>\n",
              "      <td>1.000000</td>\n",
              "    </tr>\n",
              "    <tr>\n",
              "      <th>max</th>\n",
              "      <td>59.600000</td>\n",
              "      <td>21.500000</td>\n",
              "      <td>231.000000</td>\n",
              "      <td>6300.000000</td>\n",
              "      <td>2.000000</td>\n",
              "    </tr>\n",
              "  </tbody>\n",
              "</table>\n",
              "</div>"
            ],
            "text/plain": [
              "       CulmenLength  CulmenDepth  FlipperLength     BodyMass     Species\n",
              "count    342.000000   342.000000     342.000000   342.000000  342.000000\n",
              "mean      43.921930    17.151170     200.915205  4201.754386    0.757310\n",
              "std        5.459584     1.974793      14.061714   801.954536    0.763648\n",
              "min       32.100000    13.100000     172.000000  2700.000000    0.000000\n",
              "25%       39.225000    15.600000     190.000000  3550.000000    0.000000\n",
              "50%       44.450000    17.300000     197.000000  4050.000000    1.000000\n",
              "75%       48.500000    18.700000     213.000000  4750.000000    1.000000\n",
              "max       59.600000    21.500000     231.000000  6300.000000    2.000000"
            ]
          },
          "metadata": {},
          "execution_count": 146
        }
      ]
    },
    {
      "cell_type": "code",
      "metadata": {
        "colab": {
          "base_uri": "https://localhost:8080/",
          "height": 206
        },
        "id": "iUDhfEC2JFUA",
        "outputId": "ae7a11cf-79d6-4f9a-b5ce-7ee2edb30d2d"
      },
      "source": [
        "#Correlation btwn all the features\n",
        "df_penguins.corr()"
      ],
      "execution_count": 148,
      "outputs": [
        {
          "output_type": "execute_result",
          "data": {
            "text/html": [
              "<div>\n",
              "<style scoped>\n",
              "    .dataframe tbody tr th:only-of-type {\n",
              "        vertical-align: middle;\n",
              "    }\n",
              "\n",
              "    .dataframe tbody tr th {\n",
              "        vertical-align: top;\n",
              "    }\n",
              "\n",
              "    .dataframe thead th {\n",
              "        text-align: right;\n",
              "    }\n",
              "</style>\n",
              "<table border=\"1\" class=\"dataframe\">\n",
              "  <thead>\n",
              "    <tr style=\"text-align: right;\">\n",
              "      <th></th>\n",
              "      <th>CulmenLength</th>\n",
              "      <th>CulmenDepth</th>\n",
              "      <th>FlipperLength</th>\n",
              "      <th>BodyMass</th>\n",
              "      <th>Species</th>\n",
              "    </tr>\n",
              "  </thead>\n",
              "  <tbody>\n",
              "    <tr>\n",
              "      <th>CulmenLength</th>\n",
              "      <td>1.000000</td>\n",
              "      <td>-0.235053</td>\n",
              "      <td>0.656181</td>\n",
              "      <td>0.595110</td>\n",
              "      <td>0.779857</td>\n",
              "    </tr>\n",
              "    <tr>\n",
              "      <th>CulmenDepth</th>\n",
              "      <td>-0.235053</td>\n",
              "      <td>1.000000</td>\n",
              "      <td>-0.583851</td>\n",
              "      <td>-0.471916</td>\n",
              "      <td>-0.183090</td>\n",
              "    </tr>\n",
              "    <tr>\n",
              "      <th>FlipperLength</th>\n",
              "      <td>0.656181</td>\n",
              "      <td>-0.583851</td>\n",
              "      <td>1.000000</td>\n",
              "      <td>0.871202</td>\n",
              "      <td>0.357472</td>\n",
              "    </tr>\n",
              "    <tr>\n",
              "      <th>BodyMass</th>\n",
              "      <td>0.595110</td>\n",
              "      <td>-0.471916</td>\n",
              "      <td>0.871202</td>\n",
              "      <td>1.000000</td>\n",
              "      <td>0.209717</td>\n",
              "    </tr>\n",
              "    <tr>\n",
              "      <th>Species</th>\n",
              "      <td>0.779857</td>\n",
              "      <td>-0.183090</td>\n",
              "      <td>0.357472</td>\n",
              "      <td>0.209717</td>\n",
              "      <td>1.000000</td>\n",
              "    </tr>\n",
              "  </tbody>\n",
              "</table>\n",
              "</div>"
            ],
            "text/plain": [
              "               CulmenLength  CulmenDepth  FlipperLength  BodyMass   Species\n",
              "CulmenLength       1.000000    -0.235053       0.656181  0.595110  0.779857\n",
              "CulmenDepth       -0.235053     1.000000      -0.583851 -0.471916 -0.183090\n",
              "FlipperLength      0.656181    -0.583851       1.000000  0.871202  0.357472\n",
              "BodyMass           0.595110    -0.471916       0.871202  1.000000  0.209717\n",
              "Species            0.779857    -0.183090       0.357472  0.209717  1.000000"
            ]
          },
          "metadata": {},
          "execution_count": 148
        }
      ]
    },
    {
      "cell_type": "code",
      "metadata": {
        "colab": {
          "base_uri": "https://localhost:8080/",
          "height": 1000
        },
        "id": "STX6j8AdxhBU",
        "outputId": "c527ea2c-98a4-4ce1-db2b-23aec3305854"
      },
      "source": [
        "#dividing the dataset into features and labels to visualize the plots\n",
        "penguins_feature=['CulmenLength','CulmenDepth','FlipperLength','BodyMass']\n",
        "labels=['Species']\n",
        "\n",
        "for col in penguins_feature:\n",
        "  df_penguins.boxplot(column=col,by=labels,figsize=(9,6))\n",
        "  plt.title(col)\n",
        "\n",
        "plt.show()"
      ],
      "execution_count": 158,
      "outputs": [
        {
          "output_type": "display_data",
          "data": {
            "image/png": "[encoded data removed]",
            "text/plain": [
              "<Figure size 648x432 with 1 Axes>"
            ]
          },
          "metadata": {
            "needs_background": "light"
          }
        },
        {
          "output_type": "display_data",
          "data": {
            "image/png": "[encoded data removed]",
            "text/plain": [
              "<Figure size 648x432 with 1 Axes>"
            ]
          },
          "metadata": {
            "needs_background": "light"
          }
        },
        {
          "output_type": "display_data",
          "data": {
            "image/png": "[encoded data removed]",
            "text/plain": [
              "<Figure size 648x432 with 1 Axes>"
            ]
          },
          "metadata": {
            "needs_background": "light"
          }
        },
        {
          "output_type": "display_data",
          "data": {
            "image/png": "[encoded data removed]",
            "text/plain": [
              "<Figure size 648x432 with 1 Axes>"
            ]
          },
          "metadata": {
            "needs_background": "light"
          }
        }
      ]
    },
    {
      "cell_type": "markdown",
      "metadata": {
        "id": "wILDCKVWzgKN"
      },
      "source": [
        "From the box plots, it looks like species 0 and 2 (Adelie and Chinstrap) have similar data profiles for culmen depth, flipper length, and body mass, but Chinstraps tend to have longer culmens. Species 1 (Gentoo) tends to have fairly clearly differentiated features from the others; which should help us train a good classification model."
      ]
    },
    {
      "cell_type": "markdown",
      "metadata": {
        "id": "Ghq1FphQzkIF"
      },
      "source": [
        "Data Preperation"
      ]
    },
    {
      "cell_type": "code",
      "metadata": {
        "colab": {
          "base_uri": "https://localhost:8080/"
        },
        "id": "8wcThvg-yIhj",
        "outputId": "38e361a4-1029-419a-ec69-a331cd3cec26"
      },
      "source": [
        "from sklearn.model_selection import train_test_split\n",
        "\n",
        "features=['CulmenLength','CulmenDepth','FlipperLength','BodyMass']\n",
        "labels=['Species']\n",
        "X=df_penguins[features].values\n",
        "y=df_penguins[labels].values\n",
        "              \n",
        "X_train,X_test,y_train,y_test=train_test_split(X,y,test_size=0.3,random_state=0)\n",
        "print(\"Training data cases:%d \\n Testing data cases:%d\"%(X_train.shape[0],X_test.shape[0]))"
      ],
      "execution_count": 88,
      "outputs": [
        {
          "output_type": "stream",
          "name": "stdout",
          "text": [
            "Training data cases:239 \n",
            " Testing data cases:103\n"
          ]
        }
      ]
    },
    {
      "cell_type": "markdown",
      "metadata": {
        "id": "kFnF9ph31P_n"
      },
      "source": [
        "Train and evaluate a mutiple classifier"
      ]
    },
    {
      "cell_type": "code",
      "metadata": {
        "colab": {
          "base_uri": "https://localhost:8080/"
        },
        "id": "2o50SCBR0RyF",
        "outputId": "5db4969d-48e4-43ea-ecea-d330bb288c03"
      },
      "source": [
        "from sklearn.linear_model import LogisticRegression\n",
        "reg=0.01\n",
        "\n",
        "model=LogisticRegression(C=1/reg,solver='liblinear')\n",
        "model.fit(X_train,y_train)\n",
        "print(model)\n",
        "\n",
        "predictions=model.predict(X_test)\n",
        "print(\"Actual labels:\",y_test)\n",
        "print(\"Predicted labels:\",predictions)"
      ],
      "execution_count": 95,
      "outputs": [
        {
          "output_type": "stream",
          "name": "stdout",
          "text": [
            "LogisticRegression(C=100.0, class_weight=None, dual=False, fit_intercept=True,\n",
            "                   intercept_scaling=1, l1_ratio=None, max_iter=100,\n",
            "                   multi_class='auto', n_jobs=None, penalty='l2',\n",
            "                   random_state=None, solver='liblinear', tol=0.0001, verbose=0,\n",
            "                   warm_start=False)\n",
            "Actual labels: [[0]\n",
            " [2]\n",
            " [0]\n",
            " [2]\n",
            " [0]\n",
            " [2]\n",
            " [1]\n",
            " [0]\n",
            " [1]\n",
            " [0]\n",
            " [0]\n",
            " [1]\n",
            " [1]\n",
            " [0]\n",
            " [0]\n",
            " [1]\n",
            " [1]\n",
            " [1]\n",
            " [2]\n",
            " [0]\n",
            " [2]\n",
            " [0]\n",
            " [2]\n",
            " [1]\n",
            " [0]\n",
            " [0]\n",
            " [1]\n",
            " [2]\n",
            " [1]\n",
            " [1]\n",
            " [0]\n",
            " [0]\n",
            " [0]\n",
            " [1]\n",
            " [1]\n",
            " [0]\n",
            " [2]\n",
            " [1]\n",
            " [2]\n",
            " [0]\n",
            " [0]\n",
            " [0]\n",
            " [0]\n",
            " [1]\n",
            " [0]\n",
            " [0]\n",
            " [2]\n",
            " [1]\n",
            " [1]\n",
            " [2]\n",
            " [0]\n",
            " [0]\n",
            " [0]\n",
            " [0]\n",
            " [2]\n",
            " [0]\n",
            " [1]\n",
            " [0]\n",
            " [0]\n",
            " [2]\n",
            " [0]\n",
            " [0]\n",
            " [0]\n",
            " [1]\n",
            " [0]\n",
            " [0]\n",
            " [0]\n",
            " [1]\n",
            " [0]\n",
            " [1]\n",
            " [0]\n",
            " [2]\n",
            " [0]\n",
            " [0]\n",
            " [1]\n",
            " [0]\n",
            " [2]\n",
            " [0]\n",
            " [0]\n",
            " [1]\n",
            " [0]\n",
            " [1]\n",
            " [1]\n",
            " [0]\n",
            " [1]\n",
            " [1]\n",
            " [2]\n",
            " [0]\n",
            " [1]\n",
            " [2]\n",
            " [0]\n",
            " [0]\n",
            " [1]\n",
            " [0]\n",
            " [1]\n",
            " [1]\n",
            " [0]\n",
            " [1]\n",
            " [2]\n",
            " [1]\n",
            " [1]\n",
            " [1]\n",
            " [0]]\n",
            "Predicted labels: [0 2 0 2 0 2 1 0 1 0 0 1 1 0 0 1 1 1 2 0 2 0 2 1 0 0 1 2 1 1 0 0 0 1 1 0 2\n",
            " 1 2 0 0 0 0 1 0 0 2 1 1 2 0 0 0 0 2 0 1 0 0 2 0 0 0 1 0 0 0 1 0 1 0 2 0 0\n",
            " 1 0 2 0 0 1 0 1 1 0 1 1 2 0 1 2 0 0 1 0 1 1 0 1 2 1 1 1 0]\n"
          ]
        }
      ]
    },
    {
      "cell_type": "markdown",
      "metadata": {
        "id": "mJU3e2wB2Fw0"
      },
      "source": [
        "Checking of Accuracy"
      ]
    },
    {
      "cell_type": "code",
      "metadata": {
        "colab": {
          "base_uri": "https://localhost:8080/",
          "height": 565
        },
        "id": "JEPLy3rm17-z",
        "outputId": "b5f7c929-3912-4a12-ff54-5b935c196280"
      },
      "source": [
        "from sklearn.metrics import classification_report,confusion_matrix\n",
        "print(classification_report(y_test,predictions))\n",
        "\n",
        "cm=confusion_matrix(y_test,predictions)\n",
        "fig=plt.figure(figsize=(9,6))\n",
        "sns.heatmap(data=cm,annot=True)\n",
        "plt.xlabel(\"Predicted labels\")\n",
        "plt.ylabel(\"Actual labels\")\n",
        "\n",
        "plt.show()\n"
      ],
      "execution_count": 139,
      "outputs": [
        {
          "output_type": "stream",
          "name": "stdout",
          "text": [
            "              precision    recall  f1-score   support\n",
            "\n",
            "           0       1.00      1.00      1.00        50\n",
            "           1       1.00      1.00      1.00        35\n",
            "           2       1.00      1.00      1.00        18\n",
            "\n",
            "    accuracy                           1.00       103\n",
            "   macro avg       1.00      1.00      1.00       103\n",
            "weighted avg       1.00      1.00      1.00       103\n",
            "\n"
          ]
        },
        {
          "output_type": "display_data",
          "data": {
            "image/png": "[encoded data removed]",
            "text/plain": [
              "<Figure size 648x432 with 2 Axes>"
            ]
          },
          "metadata": {
            "needs_background": "light"
          }
        }
      ]
    },
    {
      "cell_type": "code",
      "metadata": {
        "colab": {
          "base_uri": "https://localhost:8080/"
        },
        "id": "-DYxbQi93UoW",
        "outputId": "e8b1df23-297b-4399-f5da-01681b79ebc5"
      },
      "source": [
        "from sklearn.metrics import accuracy_score, precision_score, recall_score\n",
        "\n",
        "print(\"Overall Accuracy:\",accuracy_score(y_test,predictions))\n",
        "print(\"Overall Precision:\",precision_score(y_test,predictions, average='macro'))\n",
        "print(\"Overall Recall:\",recall_score(y_test,predictions, average='macro'))"
      ],
      "execution_count": 100,
      "outputs": [
        {
          "output_type": "stream",
          "name": "stdout",
          "text": [
            "Overall Accuracy: 1.0\n",
            "Overall Precision: 1.0\n",
            "Overall Recall: 1.0\n"
          ]
        }
      ]
    },
    {
      "cell_type": "markdown",
      "metadata": {
        "id": "eNmNI_1K4oFQ"
      },
      "source": [
        "Preprocessing of data in pipeline"
      ]
    },
    {
      "cell_type": "code",
      "metadata": {
        "id": "7QD3ZYit3zQX"
      },
      "source": [
        "from sklearn.compose import ColumnTransformer\n",
        "from sklearn.pipeline import Pipeline\n",
        "from sklearn.preprocessing import StandardScaler\n",
        "from sklearn.preprocessing import OneHotEncoder\n",
        "from sklearn.svm import SVC\n",
        "\n",
        "#Define preprocessing for numeric features\n",
        "\n",
        "numeric_features=[0,1,2,3]\n",
        "numeric_transformer=Pipeline(steps=[('scaler',StandardScaler())])\n",
        "\n",
        "preprocessor=ColumnTransformer(transformers=[('preprocess',numeric_transformer,numeric_features)])\n",
        "\n",
        "pipeline=Pipeline(steps=[('preprocessor',preprocessor),('regressor',SVC(probability=True))])"
      ],
      "execution_count": 113,
      "outputs": []
    },
    {
      "cell_type": "code",
      "metadata": {
        "colab": {
          "base_uri": "https://localhost:8080/",
          "height": 565
        },
        "id": "QQIGnGqI5VmT",
        "outputId": "171dcf17-866a-4f96-c7ef-580bad19022c"
      },
      "source": [
        "print(classification_report(y_test,predictions))\n",
        "\n",
        "cm=confusion_matrix(y_test,predictions)\n",
        "fig=plt.figure(figsize=(9,6))\n",
        "sns.heatmap(data=cm,annot=None)\n",
        "plt.xlabel(\"Predicted labels\")\n",
        "plt.ylabel(\"Actual labels\")\n",
        "plt.show()"
      ],
      "execution_count": 143,
      "outputs": [
        {
          "output_type": "stream",
          "name": "stdout",
          "text": [
            "              precision    recall  f1-score   support\n",
            "\n",
            "           0       1.00      1.00      1.00        50\n",
            "           1       1.00      1.00      1.00        35\n",
            "           2       1.00      1.00      1.00        18\n",
            "\n",
            "    accuracy                           1.00       103\n",
            "   macro avg       1.00      1.00      1.00       103\n",
            "weighted avg       1.00      1.00      1.00       103\n",
            "\n"
          ]
        },
        {
          "output_type": "display_data",
          "data": {
            "image/png": "[encoded data removed]",
            "text/plain": [
              "<Figure size 648x432 with 2 Axes>"
            ]
          },
          "metadata": {
            "needs_background": "light"
          }
        }
      ]
    },
    {
      "cell_type": "code",
      "metadata": {
        "colab": {
          "base_uri": "https://localhost:8080/",
          "height": 206
        },
        "id": "CbQ0BqDB9Zjr",
        "outputId": "0f5ab2a3-c2a8-4241-e6f2-b39dbff45bf9"
      },
      "source": [
        "df_penguins.head()"
      ],
      "execution_count": 115,
      "outputs": [
        {
          "output_type": "execute_result",
          "data": {
            "text/html": [
              "<div>\n",
              "<style scoped>\n",
              "    .dataframe tbody tr th:only-of-type {\n",
              "        vertical-align: middle;\n",
              "    }\n",
              "\n",
              "    .dataframe tbody tr th {\n",
              "        vertical-align: top;\n",
              "    }\n",
              "\n",
              "    .dataframe thead th {\n",
              "        text-align: right;\n",
              "    }\n",
              "</style>\n",
              "<table border=\"1\" class=\"dataframe\">\n",
              "  <thead>\n",
              "    <tr style=\"text-align: right;\">\n",
              "      <th></th>\n",
              "      <th>CulmenLength</th>\n",
              "      <th>CulmenDepth</th>\n",
              "      <th>FlipperLength</th>\n",
              "      <th>BodyMass</th>\n",
              "      <th>Species</th>\n",
              "    </tr>\n",
              "  </thead>\n",
              "  <tbody>\n",
              "    <tr>\n",
              "      <th>0</th>\n",
              "      <td>39.1</td>\n",
              "      <td>18.7</td>\n",
              "      <td>181.0</td>\n",
              "      <td>3750.0</td>\n",
              "      <td>0</td>\n",
              "    </tr>\n",
              "    <tr>\n",
              "      <th>1</th>\n",
              "      <td>39.5</td>\n",
              "      <td>17.4</td>\n",
              "      <td>186.0</td>\n",
              "      <td>3800.0</td>\n",
              "      <td>0</td>\n",
              "    </tr>\n",
              "    <tr>\n",
              "      <th>2</th>\n",
              "      <td>40.3</td>\n",
              "      <td>18.0</td>\n",
              "      <td>195.0</td>\n",
              "      <td>3250.0</td>\n",
              "      <td>0</td>\n",
              "    </tr>\n",
              "    <tr>\n",
              "      <th>4</th>\n",
              "      <td>36.7</td>\n",
              "      <td>19.3</td>\n",
              "      <td>193.0</td>\n",
              "      <td>3450.0</td>\n",
              "      <td>0</td>\n",
              "    </tr>\n",
              "    <tr>\n",
              "      <th>5</th>\n",
              "      <td>39.3</td>\n",
              "      <td>20.6</td>\n",
              "      <td>190.0</td>\n",
              "      <td>3650.0</td>\n",
              "      <td>0</td>\n",
              "    </tr>\n",
              "  </tbody>\n",
              "</table>\n",
              "</div>"
            ],
            "text/plain": [
              "   CulmenLength  CulmenDepth  FlipperLength  BodyMass  Species\n",
              "0          39.1         18.7          181.0    3750.0        0\n",
              "1          39.5         17.4          186.0    3800.0        0\n",
              "2          40.3         18.0          195.0    3250.0        0\n",
              "4          36.7         19.3          193.0    3450.0        0\n",
              "5          39.3         20.6          190.0    3650.0        0"
            ]
          },
          "metadata": {},
          "execution_count": 115
        }
      ]
    },
    {
      "cell_type": "markdown",
      "metadata": {
        "id": "FH_DFuL08tjS"
      },
      "source": [
        "Deploying of the Data Model"
      ]
    },
    {
      "cell_type": "code",
      "metadata": {
        "colab": {
          "base_uri": "https://localhost:8080/"
        },
        "id": "NFLArXqg5YEl",
        "outputId": "a6e517ae-de3c-4b6f-d9e6-7a04dc07afec"
      },
      "source": [
        "import joblib\n",
        "filename='./penguin_model.pkl'\n",
        "joblib.dump(model,filename)\n",
        "\n",
        "model=joblib.load(filename)\n",
        "\n",
        "penguin_classes = ['Adelie', 'Gentoo', 'Chinstrap']\n",
        "\n",
        "new_input=np.array([[58.7,16.9,217,4291],[37.6,19.2,193,3492]])\n",
        "print(\"New Input:\",new_input)\n",
        "new_output=model.predict(new_input)\n",
        "for result in new_output:\n",
        "  print('New Output :',result,'('+ penguin_classes[result] +')')"
      ],
      "execution_count": 134,
      "outputs": [
        {
          "output_type": "stream",
          "name": "stdout",
          "text": [
            "New Input: [[  58.7   16.9  217.  4291. ]\n",
            " [  37.6   19.2  193.  3492. ]]\n",
            "New Output : 2 (Chinstrap)\n",
            "New Output : 0 (Adelie)\n"
          ]
        }
      ]
    },
    {
      "cell_type": "markdown",
      "metadata": {
        "id": "cLOp8NXLHyIr"
      },
      "source": [
        "**SUMMARY**"
      ]
    },
    {
      "cell_type": "markdown",
      "metadata": {
        "id": "ossij7EpIeOZ"
      },
      "source": [
        "I used Logistic Regression and SVM classifier for classification of the species. i also used heatmap and classification report to look into the accuracy and then improving it. This model predicts the outcome with 100% accuracy."
      ]
    }
  ]
}